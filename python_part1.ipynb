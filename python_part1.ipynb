{
  "nbformat": 4,
  "nbformat_minor": 0,
  "metadata": {
    "colab": {
      "provenance": []
    },
    "kernelspec": {
      "name": "python3",
      "display_name": "Python 3"
    },
    "language_info": {
      "name": "python"
    }
  },
  "cells": [
    {
      "cell_type": "code",
      "execution_count": null,
      "metadata": {
        "id": "yVi0_RvpaMOS"
      },
      "outputs": [],
      "source": []
    },
    {
      "cell_type": "markdown",
      "source": [
        "#DATA SCIENCE\n"
      ],
      "metadata": {
        "id": "hhSMLIYjaWV0"
      }
    },
    {
      "cell_type": "code",
      "source": [
        "print(\"Hello world!\")"
      ],
      "metadata": {
        "colab": {
          "base_uri": "https://localhost:8080/"
        },
        "id": "ZhBfnZ14agG6",
        "outputId": "e1cc86aa-6154-409b-cadd-681b1214fafb"
      },
      "execution_count": null,
      "outputs": [
        {
          "output_type": "stream",
          "name": "stdout",
          "text": [
            "Hello world!\n"
          ]
        }
      ]
    },
    {
      "cell_type": "code",
      "source": [
        "print(\"hello\",1,4.6,\"true\",sep=\"/\")"
      ],
      "metadata": {
        "colab": {
          "base_uri": "https://localhost:8080/"
        },
        "id": "RDz7Z8vfakV-",
        "outputId": "3d6d6908-d38b-4905-9e08-43215f0d64c1"
      },
      "execution_count": null,
      "outputs": [
        {
          "output_type": "stream",
          "name": "stdout",
          "text": [
            "hello/1/4.6/true\n"
          ]
        }
      ]
    },
    {
      "cell_type": "code",
      "source": [
        "print(\"hello\",end =\"-\")\n",
        "print(\"world\")"
      ],
      "metadata": {
        "colab": {
          "base_uri": "https://localhost:8080/"
        },
        "id": "y-_ufGt7badr",
        "outputId": "6fb22917-f943-4bf8-823e-1aa1d2c37536"
      },
      "execution_count": null,
      "outputs": [
        {
          "output_type": "stream",
          "name": "stdout",
          "text": [
            "hello-world\n"
          ]
        }
      ]
    },
    {
      "cell_type": "markdown",
      "source": [
        "# Data Types\n"
      ],
      "metadata": {
        "id": "CVtvQhnQcAsp"
      }
    },
    {
      "cell_type": "code",
      "source": [
        "#integer\n",
        "print(8)\n",
        "\n"
      ],
      "metadata": {
        "colab": {
          "base_uri": "https://localhost:8080/"
        },
        "id": "PQ68ImlPb8u_",
        "outputId": "9dc649eb-93b9-4a88-9983-047956a5d2ec"
      },
      "execution_count": null,
      "outputs": [
        {
          "output_type": "stream",
          "name": "stdout",
          "text": [
            "8\n"
          ]
        }
      ]
    },
    {
      "cell_type": "code",
      "source": [
        "#decimal/float\n",
        "print(34.8)\n",
        "print(1.2e309)"
      ],
      "metadata": {
        "colab": {
          "base_uri": "https://localhost:8080/"
        },
        "id": "g4BYNDMgcVhI",
        "outputId": "384285d3-dd55-4aca-972a-397ceed68a34"
      },
      "execution_count": null,
      "outputs": [
        {
          "output_type": "stream",
          "name": "stdout",
          "text": [
            "34.8\n",
            "inf\n"
          ]
        }
      ]
    },
    {
      "cell_type": "code",
      "source": [
        "#boolean\n",
        "print(True)\n",
        "print(False)"
      ],
      "metadata": {
        "colab": {
          "base_uri": "https://localhost:8080/"
        },
        "id": "Mu_mSKewcY-7",
        "outputId": "e345434c-a74a-4397-e974-2838fb549f1f"
      },
      "execution_count": null,
      "outputs": [
        {
          "output_type": "stream",
          "name": "stdout",
          "text": [
            "True\n",
            "False\n"
          ]
        }
      ]
    },
    {
      "cell_type": "code",
      "source": [
        "#text/string\n",
        "print(\"utkarsha\")"
      ],
      "metadata": {
        "colab": {
          "base_uri": "https://localhost:8080/"
        },
        "id": "btPvhLvccm47",
        "outputId": "6ba4474a-12fb-4586-e429-693ea7449ba6"
      },
      "execution_count": null,
      "outputs": [
        {
          "output_type": "stream",
          "name": "stdout",
          "text": [
            "utkarsha\n"
          ]
        }
      ]
    },
    {
      "cell_type": "code",
      "source": [
        "#complex number\n",
        "print(4+5j)"
      ],
      "metadata": {
        "colab": {
          "base_uri": "https://localhost:8080/"
        },
        "id": "wiFgU6Wccr2e",
        "outputId": "45e4bcfa-270c-4da1-da60-87b5599c91a4"
      },
      "execution_count": null,
      "outputs": [
        {
          "output_type": "stream",
          "name": "stdout",
          "text": [
            "(4+5j)\n"
          ]
        }
      ]
    },
    {
      "cell_type": "code",
      "source": [
        "#list\n",
        "print([1,23,4,5,3,8,])"
      ],
      "metadata": {
        "colab": {
          "base_uri": "https://localhost:8080/"
        },
        "id": "DvbXV7oqcvsr",
        "outputId": "dd09cf3f-4d87-4b02-af24-9986d7f399fe"
      },
      "execution_count": null,
      "outputs": [
        {
          "output_type": "stream",
          "name": "stdout",
          "text": [
            "[1, 23, 4, 5, 3, 8]\n"
          ]
        }
      ]
    },
    {
      "cell_type": "code",
      "source": [
        "#tuple\n",
        "a=((1,2,34))\n",
        "print(a)"
      ],
      "metadata": {
        "colab": {
          "base_uri": "https://localhost:8080/"
        },
        "id": "SSgBfFv5c2I4",
        "outputId": "f5d131a6-6fae-44f8-b4ca-866181ab5645"
      },
      "execution_count": null,
      "outputs": [
        {
          "output_type": "stream",
          "name": "stdout",
          "text": [
            "(1, 2, 34)\n"
          ]
        }
      ]
    },
    {
      "cell_type": "code",
      "source": [
        "#set\n",
        "print({1,2,3,4,5,6})"
      ],
      "metadata": {
        "colab": {
          "base_uri": "https://localhost:8080/"
        },
        "id": "sfp5vV54c81k",
        "outputId": "dae6a2a9-88c8-42ba-d1a0-e60a59760783"
      },
      "execution_count": null,
      "outputs": [
        {
          "output_type": "stream",
          "name": "stdout",
          "text": [
            "{1, 2, 3, 4, 5, 6}\n"
          ]
        }
      ]
    },
    {
      "cell_type": "code",
      "source": [
        "#dictionary\n",
        "print({\"name\":\"utkarsha\",\"age\":23})"
      ],
      "metadata": {
        "colab": {
          "base_uri": "https://localhost:8080/"
        },
        "id": "8owLvsjgdF-R",
        "outputId": "00bce396-d6a6-483d-d375-57dfd5457890"
      },
      "execution_count": null,
      "outputs": [
        {
          "output_type": "stream",
          "name": "stdout",
          "text": [
            "{'name': 'utkarsha', 'age': 23}\n"
          ]
        }
      ]
    },
    {
      "cell_type": "code",
      "source": [
        "#datatype\n",
        "print(type(2))"
      ],
      "metadata": {
        "colab": {
          "base_uri": "https://localhost:8080/"
        },
        "id": "HCwXY8NkdRjS",
        "outputId": "86374887-e31c-4752-eaf3-b1b509a530a7"
      },
      "execution_count": null,
      "outputs": [
        {
          "output_type": "stream",
          "name": "stdout",
          "text": [
            "<class 'int'>\n"
          ]
        }
      ]
    },
    {
      "cell_type": "markdown",
      "source": [
        "# Variables\n"
      ],
      "metadata": {
        "id": "uEhD9mcTeQGt"
      }
    },
    {
      "cell_type": "code",
      "source": [
        "#variables are container\n",
        "name =\"utkarsha\"\n",
        "print(name)\n",
        "\n",
        "a=4\n",
        "f=5\n",
        "print(a+f)"
      ],
      "metadata": {
        "colab": {
          "base_uri": "https://localhost:8080/"
        },
        "id": "Rp6eBTeTeCuv",
        "outputId": "c910e14e-c08a-4de0-8db7-376f553a23f2"
      },
      "execution_count": null,
      "outputs": [
        {
          "output_type": "stream",
          "name": "stdout",
          "text": [
            "utkarsha\n",
            "9\n"
          ]
        }
      ]
    },
    {
      "cell_type": "code",
      "source": [
        "#variables are dynamic binding\n",
        "a=3\n",
        "print(a)\n",
        "a=\"utkarsha\"\n",
        "print(a)\n",
        "\n",
        "#static binding c, c++, java\n",
        "#int a =3\n",
        "#a=\"abs\" this is not allowed in c ,c++ , java"
      ],
      "metadata": {
        "colab": {
          "base_uri": "https://localhost:8080/"
        },
        "id": "E1IYMb1GenkW",
        "outputId": "5a9e80dc-6b71-4152-ff88-42ddf479e76c"
      },
      "execution_count": null,
      "outputs": [
        {
          "output_type": "stream",
          "name": "stdout",
          "text": [
            "3\n",
            "utkarsha\n"
          ]
        }
      ]
    },
    {
      "cell_type": "code",
      "source": [
        "a=2\n",
        "b=5\n",
        "d=8\n",
        "print(a,b,d)"
      ],
      "metadata": {
        "colab": {
          "base_uri": "https://localhost:8080/"
        },
        "id": "WqbX_zIkfSSd",
        "outputId": "c2244c53-68bc-48cc-aba1-a209e4858f2a"
      },
      "execution_count": null,
      "outputs": [
        {
          "output_type": "stream",
          "name": "stdout",
          "text": [
            "2 5 8\n"
          ]
        }
      ]
    },
    {
      "cell_type": "code",
      "source": [
        "a,b,c= 2,3,4\n",
        "print(a,b,c)"
      ],
      "metadata": {
        "colab": {
          "base_uri": "https://localhost:8080/"
        },
        "id": "fyw-YFQXgNVf",
        "outputId": "98086035-9bc8-44c4-fe77-e1a934d14267"
      },
      "execution_count": null,
      "outputs": [
        {
          "output_type": "stream",
          "name": "stdout",
          "text": [
            "2 3 4\n"
          ]
        }
      ]
    },
    {
      "cell_type": "code",
      "source": [
        "a=b=c=5\n",
        "print(a,b,c)"
      ],
      "metadata": {
        "colab": {
          "base_uri": "https://localhost:8080/"
        },
        "id": "xPbVIeANgS7j",
        "outputId": "1459cf72-4efe-4ae8-d255-d9d7d7b7a302"
      },
      "execution_count": null,
      "outputs": [
        {
          "output_type": "stream",
          "name": "stdout",
          "text": [
            "5 5 5\n"
          ]
        }
      ]
    },
    {
      "cell_type": "markdown",
      "source": [
        "# comment\n"
      ],
      "metadata": {
        "id": "zSaQBUVFg_2U"
      }
    },
    {
      "cell_type": "code",
      "source": [
        "#this is a comment"
      ],
      "metadata": {
        "id": "WN4giVf2hCvm"
      },
      "execution_count": null,
      "outputs": []
    },
    {
      "cell_type": "markdown",
      "source": [
        "# Keywords and Identifier\n"
      ],
      "metadata": {
        "id": "ebFHXsY7gYdt"
      }
    },
    {
      "cell_type": "code",
      "source": [
        "#keyword\n",
        "#32 keyword in python\n"
      ],
      "metadata": {
        "id": "F9-MEHfJgevZ"
      },
      "execution_count": null,
      "outputs": []
    },
    {
      "cell_type": "code",
      "source": [
        "#identifier\n",
        "#it can not be keyword\n",
        "#you can start with digit\n",
        "name2=\"utkarsha \"\n",
        "#you can use special character -> -\n",
        "_=\"abc\"\n",
        "print(name2)\n",
        "print(_)"
      ],
      "metadata": {
        "colab": {
          "base_uri": "https://localhost:8080/"
        },
        "id": "hF21nw1xl244",
        "outputId": "eb130059-b693-4060-e427-343a30cac836"
      },
      "execution_count": null,
      "outputs": [
        {
          "output_type": "stream",
          "name": "stdout",
          "text": [
            "utkarsha \n",
            "abc\n"
          ]
        }
      ]
    },
    {
      "cell_type": "markdown",
      "source": [
        "#User Input\n"
      ],
      "metadata": {
        "id": "bewasQsHmWSa"
      }
    },
    {
      "cell_type": "code",
      "source": [
        "#static VS dynamic\n",
        "input()"
      ],
      "metadata": {
        "colab": {
          "base_uri": "https://localhost:8080/",
          "height": 53
        },
        "id": "X8rA73gSmZBQ",
        "outputId": "c573a701-b467-4d73-fa36-e91dab6f9b4b"
      },
      "execution_count": null,
      "outputs": [
        {
          "name": "stdout",
          "output_type": "stream",
          "text": [
            "utkarsha\n"
          ]
        },
        {
          "output_type": "execute_result",
          "data": {
            "text/plain": [
              "'utkarsha'"
            ],
            "application/vnd.google.colaboratory.intrinsic+json": {
              "type": "string"
            }
          },
          "metadata": {},
          "execution_count": 27
        }
      ]
    },
    {
      "cell_type": "code",
      "source": [
        "input(\"enter your name : \")"
      ],
      "metadata": {
        "colab": {
          "base_uri": "https://localhost:8080/",
          "height": 53
        },
        "id": "jHQLeihUmo1A",
        "outputId": "792048e8-07dd-41cf-96f3-39805876fd6d"
      },
      "execution_count": null,
      "outputs": [
        {
          "name": "stdout",
          "output_type": "stream",
          "text": [
            "enter your name : utkarsha\n"
          ]
        },
        {
          "output_type": "execute_result",
          "data": {
            "text/plain": [
              "'utkarsha'"
            ],
            "application/vnd.google.colaboratory.intrinsic+json": {
              "type": "string"
            }
          },
          "metadata": {},
          "execution_count": 28
        }
      ]
    },
    {
      "cell_type": "code",
      "source": [
        "#take input from user and store it into variable\n",
        "fnum=input(\"enter first number:\")\n",
        "snum =input(\"enter your second number:\")\n",
        "print(fnum,snum)\n",
        "#there is no adding number because the type of fnum ,snum are string\n",
        "print(type(fnum),type(snum))\n",
        "#add 2 variable\n",
        "result = fnum + snum\n",
        "#print result\n",
        "print(result)"
      ],
      "metadata": {
        "colab": {
          "base_uri": "https://localhost:8080/"
        },
        "id": "yRrmLu4wm1nG",
        "outputId": "9c733807-14fb-4dce-c096-393b9cc4aa96"
      },
      "execution_count": null,
      "outputs": [
        {
          "output_type": "stream",
          "name": "stdout",
          "text": [
            "enter first number:43\n",
            "enter your second number:65\n",
            "43 65\n",
            "<class 'str'> <class 'str'>\n",
            "4365\n"
          ]
        }
      ]
    },
    {
      "cell_type": "code",
      "source": [
        "#take input from user and store it into variable\n",
        "fnum=input(\"enter first number:\")\n",
        "snum =input(\"enter your second number:\")\n",
        "print(fnum,snum)\n",
        "#there is no adding number because the type of fnum ,snum are string\n",
        "print(type(fnum),type(snum))\n",
        "#add 2 variable\n",
        "result = int(fnum) + int(snum)    # type conversion\n",
        "\n",
        "#print result\n",
        "print(result)"
      ],
      "metadata": {
        "colab": {
          "base_uri": "https://localhost:8080/"
        },
        "id": "EFU00cR-qd7M",
        "outputId": "07cf9925-f9cb-4275-aba6-5cd195240121"
      },
      "execution_count": null,
      "outputs": [
        {
          "output_type": "stream",
          "name": "stdout",
          "text": [
            "enter first number:43\n",
            "enter your second number:654\n",
            "43 654\n",
            "<class 'str'> <class 'str'>\n",
            "697\n"
          ]
        }
      ]
    },
    {
      "cell_type": "code",
      "source": [
        "fnum =int(input(\"enter first number:\"))\n",
        "snum =int(input(\"enter your second number:\"))\n",
        "print(fnum,snum)\n",
        "#there is no adding number because the type of fnum ,snum are string\n",
        "print(type(fnum),type(snum))\n",
        "#add 2 variable\n",
        "result = fnum + snum    # type conversion\n",
        "\n",
        "#print result\n",
        "print(result)"
      ],
      "metadata": {
        "colab": {
          "base_uri": "https://localhost:8080/"
        },
        "id": "Kbx-B-Dbx1GU",
        "outputId": "f6b5ce0e-d624-4501-d0fb-8b9e4277bd2d"
      },
      "execution_count": null,
      "outputs": [
        {
          "output_type": "stream",
          "name": "stdout",
          "text": [
            "enter first number:34\n",
            "enter your second number:54\n",
            "34 54\n",
            "<class 'int'> <class 'int'>\n",
            "88\n"
          ]
        }
      ]
    },
    {
      "cell_type": "code",
      "source": [
        "#implicity VS explicity\n",
        "#Implicity\n",
        "print(3+5.8)\n",
        "print(type(3),type(5.8))"
      ],
      "metadata": {
        "colab": {
          "base_uri": "https://localhost:8080/"
        },
        "id": "kqHI5OPAnpgn",
        "outputId": "16bc3f88-910c-4be9-d76d-6f076ca29516"
      },
      "execution_count": null,
      "outputs": [
        {
          "output_type": "stream",
          "name": "stdout",
          "text": [
            "8.8\n",
            "<class 'int'> <class 'float'>\n"
          ]
        }
      ]
    },
    {
      "cell_type": "code",
      "source": [
        "#Explicity\n",
        "#convert str-->int\n",
        "a=int(\"43\")\n",
        "print(a)\n",
        "print(type(a))"
      ],
      "metadata": {
        "colab": {
          "base_uri": "https://localhost:8080/"
        },
        "id": "8kVkPCeGpKB-",
        "outputId": "5d1d4314-426c-45c9-f9bc-2c54de8e6456"
      },
      "execution_count": null,
      "outputs": [
        {
          "output_type": "stream",
          "name": "stdout",
          "text": [
            "43\n",
            "<class 'int'>\n"
          ]
        }
      ]
    },
    {
      "cell_type": "code",
      "source": [
        "#int --> str\n",
        "print(str(2))"
      ],
      "metadata": {
        "colab": {
          "base_uri": "https://localhost:8080/"
        },
        "id": "rMuDPx_ep3ey",
        "outputId": "f71fe3f9-e43b-4ace-8a76-be073a2e5e9b"
      },
      "execution_count": null,
      "outputs": [
        {
          "output_type": "stream",
          "name": "stdout",
          "text": [
            "2\n"
          ]
        }
      ]
    },
    {
      "cell_type": "markdown",
      "source": [
        "#Literals\n"
      ],
      "metadata": {
        "id": "08OlzLgY6umf"
      }
    },
    {
      "cell_type": "code",
      "source": [
        "a=0b1010 #binary literals\n",
        "b=100 #decimal literal\n",
        "c=0o310 #octal literal\n",
        "d=0x12c #hexadecimal literal\n",
        "\n",
        "#float literal\n",
        "float_1=10.5\n",
        "float_2=1.5e2  #1.5*10^2\n",
        "float_3=1.5e-3 #1.5*10^3\n",
        "\n",
        "#complex literals\n",
        "x=3.14j\n",
        "\n",
        "print(a,b,c,d)\n",
        "print(float_1,float_2,float_3)\n",
        "print(x,x.imag,x.real)\n"
      ],
      "metadata": {
        "colab": {
          "base_uri": "https://localhost:8080/"
        },
        "id": "tHm3Uq-3qVJk",
        "outputId": "ac1dd126-3f46-4f11-ce8b-258cdd0b2d3f"
      },
      "execution_count": null,
      "outputs": [
        {
          "output_type": "stream",
          "name": "stdout",
          "text": [
            "10 100 200 300\n",
            "10.5 150.0 0.0015\n",
            "3.14j 3.14 0.0\n"
          ]
        }
      ]
    },
    {
      "cell_type": "code",
      "source": [
        "string = 'this is python'\n",
        "strings =\"this is python \"\n",
        "char =\"C\"\n",
        "multilinr_str=\"\"\" this is multiline string with more than one line code \"\"\"\n",
        "unicode =u\"\\U0001f600\\U0001f606\\U0001f923\"\n",
        "raw_str=r\"raw \\n string\"\n",
        "\n",
        "print(string)\n",
        "print(strings)\n",
        "print(char)\n",
        "print(multilinr_str)\n",
        "print(unicode)\n",
        "print(raw_str)\n"
      ],
      "metadata": {
        "colab": {
          "base_uri": "https://localhost:8080/"
        },
        "id": "8D7enThH7O1p",
        "outputId": "1b488eca-2802-4162-8fed-b2967203949b"
      },
      "execution_count": null,
      "outputs": [
        {
          "output_type": "stream",
          "name": "stdout",
          "text": [
            "this is python\n",
            "this is python \n",
            "C\n",
            " this is multiline string with more than one line code \n",
            "😀😆🤣\n",
            "raw \\n string\n"
          ]
        }
      ]
    },
    {
      "cell_type": "code",
      "source": [
        "a=True+4\n",
        "b=False+10\n",
        "print(\"a:\",a)\n",
        "print(\"b:\",b)"
      ],
      "metadata": {
        "colab": {
          "base_uri": "https://localhost:8080/"
        },
        "id": "9hb3TJ419EHt",
        "outputId": "9eaa5c76-821e-4ecc-d10a-6dca9e217bde"
      },
      "execution_count": null,
      "outputs": [
        {
          "output_type": "stream",
          "name": "stdout",
          "text": [
            "a: 5\n",
            "b: 10\n"
          ]
        }
      ]
    },
    {
      "cell_type": "code",
      "source": [
        "a=None\n",
        "print(a)"
      ],
      "metadata": {
        "colab": {
          "base_uri": "https://localhost:8080/"
        },
        "id": "moOTZYaI9ZhV",
        "outputId": "0d606b78-4c06-4528-9c8c-de86bf12beb1"
      },
      "execution_count": null,
      "outputs": [
        {
          "output_type": "stream",
          "name": "stdout",
          "text": [
            "None\n"
          ]
        }
      ]
    },
    {
      "cell_type": "markdown",
      "source": [
        "#Task1\n"
      ],
      "metadata": {
        "id": "EBVng300-xxc"
      }
    },
    {
      "cell_type": "code",
      "source": [
        "#Q1 :- Print the given strings as per stated format.\n",
        "\n",
        "print(\"Data\",\"Science\",\"Mentorship\",\"Program\",\"By\",\"CampusX\",sep=\"-\")"
      ],
      "metadata": {
        "colab": {
          "base_uri": "https://localhost:8080/"
        },
        "id": "Ots17QzH9fis",
        "outputId": "57b32d8a-6823-4d5f-ac74-2929b2138ab4"
      },
      "execution_count": null,
      "outputs": [
        {
          "output_type": "stream",
          "name": "stdout",
          "text": [
            "Data-Science-Mentorship-Program-By-CampusX\n"
          ]
        }
      ]
    },
    {
      "cell_type": "code",
      "source": [
        "#Q2:- Write a program that will convert celsius value to fahrenheit.\n",
        "celsius = float(input(\"enter the tem in celsius:\"))\n",
        "fahrenheit = (celsius *9/5)+32\n",
        "print(f\"convert celsius value {celsius} c to fahrenheit {fahrenheit}F\")"
      ],
      "metadata": {
        "colab": {
          "base_uri": "https://localhost:8080/"
        },
        "id": "zKADauOP_LAs",
        "outputId": "14cdc075-e059-48d5-ab93-c649560451ee"
      },
      "execution_count": null,
      "outputs": [
        {
          "output_type": "stream",
          "name": "stdout",
          "text": [
            "enter the tem in celsius:34\n",
            "convert celsius value 34.0 c to fahrenheit 93.2F\n"
          ]
        }
      ]
    },
    {
      "cell_type": "code",
      "source": [
        "#Q3:- Take 2 numbers as input from the user.Write a program to swap the numbers without using any special python syntax.\n",
        "\n",
        "a=int(input(\"enter first number :\"))\n",
        "b=int(input(\"enter second number :\"))\n",
        "\n",
        "print(\"a:\",b,\"b:\",a)\n"
      ],
      "metadata": {
        "colab": {
          "base_uri": "https://localhost:8080/"
        },
        "id": "MkT64Fih98sa",
        "outputId": "de07da23-8eaf-410b-af7a-1e1ff9064a15"
      },
      "execution_count": null,
      "outputs": [
        {
          "output_type": "stream",
          "name": "stdout",
          "text": [
            "enter first number :9\n",
            "enter second number :4\n",
            "a: 4 b: 9\n"
          ]
        }
      ]
    },
    {
      "cell_type": "code",
      "source": [
        "#Q5:- Write a program to find the simple interest when the value of principle,rate of interest and time period is provided by the user.\n",
        "\n",
        "Value_of_principle = int(input(\"enter the value of principle\"))\n",
        "\n",
        "Rate_of_interest= int(input(\"enter the rate of interest\"))\n",
        "Time_period = int(input(\"enter the time period\"))\n",
        "\n",
        "simple_interest =(Value_of_principle*Rate_of_interest*Time_period)\n",
        "print(\"simple interest:\",simple_interest)"
      ],
      "metadata": {
        "colab": {
          "base_uri": "https://localhost:8080/"
        },
        "id": "CsZSCSKGVXj_",
        "outputId": "3f39c120-6fd5-4c60-86db-4b5e2550a03e"
      },
      "execution_count": null,
      "outputs": [
        {
          "output_type": "stream",
          "name": "stdout",
          "text": [
            "enter the value of principle65\n",
            "enter the rate of interest56\n",
            "enter the time period4\n",
            "simple interest: 14560\n"
          ]
        }
      ]
    },
    {
      "cell_type": "code",
      "source": [
        "#Q6:- Write a program that will tell the number of dogs and chicken are there when the user will provide the value of total heads and legs.\n",
        "\n",
        "heads = int(input(\"enter the number of heads:\"))\n",
        "legs = int(input(\"enter the number of legs:\"))\n",
        "\n",
        "dogs = (legs -2 * heads)//2\n",
        "chickens = heads - dogs\n",
        "\n",
        "print(\"number of chickens: \",chickens)\n",
        "print(\"number of dogs: \", dogs)"
      ],
      "metadata": {
        "colab": {
          "base_uri": "https://localhost:8080/"
        },
        "id": "1xvw8r3rXQoK",
        "outputId": "4ade30ec-cbd2-4a13-d1c4-3286f2eb704d"
      },
      "execution_count": null,
      "outputs": [
        {
          "output_type": "stream",
          "name": "stdout",
          "text": [
            "enter the number of heads:5\n",
            "enter the number of legs:14\n",
            "number of chickens:  3\n",
            "number of dogs:  2\n"
          ]
        }
      ]
    },
    {
      "cell_type": "code",
      "source": [
        "#Q7:- Write a program to find the sum of squares of first n natural numbers where n will be provided by the user.\n",
        "\n",
        "n=int(input(\"enter the natural number:\"))\n",
        "sum = (n * (n + 1) * (2 * n + 1)) // 6\n",
        "print(\"sum of square of first n natural number :\", sum)"
      ],
      "metadata": {
        "colab": {
          "base_uri": "https://localhost:8080/"
        },
        "id": "PCABUg0wZZId",
        "outputId": "8e72d13c-1ea5-4bcc-e033-ab5e8cd357c4"
      },
      "execution_count": null,
      "outputs": [
        {
          "output_type": "stream",
          "name": "stdout",
          "text": [
            "enter the natural number:4\n",
            "sum of square of first n natural number : 30\n"
          ]
        }
      ]
    },
    {
      "cell_type": "code",
      "source": [
        "#Q8 :-Given the first 2 terms of an Arithmetic Series.Find the Nth term of the series. Assume all inputs are provided by the user.\n",
        "a1=int(input(\"enter the first term :\"))\n",
        "a2= int(input(\"enter the second term:\"))\n",
        "n = int(input(\"enter the nth term:\"))\n",
        "\n",
        "d=a2-a1\n",
        "nth_term = a1+ (n-1)*d\n",
        "print(\"The\", n, \"th term of the series is:\", nth_term)\n"
      ],
      "metadata": {
        "colab": {
          "base_uri": "https://localhost:8080/"
        },
        "id": "BbfJ90FhaOpJ",
        "outputId": "8821cc03-099d-4ed1-ee54-0c0800d23f55"
      },
      "execution_count": null,
      "outputs": [
        {
          "output_type": "stream",
          "name": "stdout",
          "text": [
            "enter the first term :4\n",
            "enter the second term:3\n",
            "enter the nth term:8\n",
            "The 8 th term of the series is: -3\n"
          ]
        }
      ]
    },
    {
      "cell_type": "code",
      "source": [
        "#Q9:- Given 2 fractions, find the sum of those 2 fractions.Take the numerator and denominator values of the fractions from the user.\n",
        "\n",
        "# Input for first fraction\n",
        "a = int(input(\"Enter numerator of 1st fraction: \"))\n",
        "b = int(input(\"Enter denominator of 1st fraction: \"))\n",
        "\n",
        "# Input for second fraction\n",
        "c = int(input(\"Enter numerator of 2nd fraction: \"))\n",
        "d = int(input(\"Enter denominator of 2nd fraction: \"))\n",
        "\n",
        "# Calculate numerator and denominator of the sum\n",
        "numerator = (a * d) + (b * c)\n",
        "denominator = b * d\n",
        "\n",
        "# Find GCD using Euclidean Algorithm\n",
        "x = numerator\n",
        "y = denominator\n",
        "while y != 0:\n",
        "    x, y = y, x % y\n",
        "\n",
        "gcd = x\n",
        "\n",
        "# Simplify the fraction\n",
        "numerator = numerator // gcd\n",
        "denominator = denominator // gcd\n",
        "\n",
        "# Output the result\n",
        "print(\"The sum of the two fractions is:\", numerator, \"/\", denominator)\n"
      ],
      "metadata": {
        "colab": {
          "base_uri": "https://localhost:8080/"
        },
        "id": "5wYwK7s9bCMn",
        "outputId": "c107c9d6-1bd5-473f-c3b9-48b4d9e00650"
      },
      "execution_count": null,
      "outputs": [
        {
          "output_type": "stream",
          "name": "stdout",
          "text": [
            "Enter numerator of 1st fraction: 78\n",
            "Enter denominator of 1st fraction: 768\n",
            "Enter numerator of 2nd fraction: 6\n",
            "Enter denominator of 2nd fraction: 7\n",
            "The sum of the two fractions is: 859 / 896\n"
          ]
        }
      ]
    },
    {
      "cell_type": "code",
      "source": [
        "#Q10:- Given the height, width and breadth of a milk tank, you have to find out how many glasses of milk can be obtained? Assume all the inputs are provided by the user.\n",
        "#Input:\n",
        "# Dimensions of the milk tank\n",
        "# H = 20cm, L = 20cm, B = 20cm\n",
        "\n",
        "# Dimensions of the glass\n",
        "# h = 3cm, r = 1cm\n",
        "\n",
        "\n",
        "# Tank dimensions\n",
        "H = int(input(\"Enter height of tank (cm): \"))\n",
        "L = int(input(\"Enter length of tank (cm): \"))\n",
        "B = int(input(\"Enter breadth of tank (cm): \"))\n",
        "\n",
        "# Glass dimensions\n",
        "h = int(input(\"Enter height of glass (cm): \"))\n",
        "r = int(input(\"Enter radius of glass (cm): \"))\n",
        "\n",
        "# Calculate volumes\n",
        "tank_volume = H * L * B\n",
        "glass_volume = 3.14 * r * r * h\n",
        "\n",
        "# Calculate number of glasses (using floor division)\n",
        "number_of_glasses = int(tank_volume // glass_volume)\n",
        "\n",
        "# Output\n",
        "print(\"Number of glasses of milk that can be filled:\", number_of_glasses)\n",
        "\n"
      ],
      "metadata": {
        "colab": {
          "base_uri": "https://localhost:8080/"
        },
        "id": "4Je_8KeJbbFK",
        "outputId": "ac242860-2dba-467a-e9fe-ba375e44866d"
      },
      "execution_count": null,
      "outputs": [
        {
          "output_type": "stream",
          "name": "stdout",
          "text": [
            "Enter height of tank (cm): 78\n",
            "Enter length of tank (cm): 67\n",
            "Enter breadth of tank (cm): 88\n",
            "Enter height of glass (cm): 77\n",
            "Enter radius of glass (cm): 78\n",
            "Number of glasses of milk that can be filled: 0\n"
          ]
        }
      ]
    },
    {
      "cell_type": "markdown",
      "source": [
        "#Operator\n"
      ],
      "metadata": {
        "id": "ZYZO2eXNb-KI"
      }
    },
    {
      "cell_type": "markdown",
      "source": [
        "\n",
        "\n",
        "*   Arithmatic Operator\n",
        "\n",
        "*   Relational Operator\n",
        "\n",
        "* Logical Operator\n",
        "* Bitwise Operator\n",
        "* Assignment Operator\n",
        "* Membership Operator\n",
        "\n"
      ],
      "metadata": {
        "id": "UcAtks1Yu7DP"
      }
    },
    {
      "cell_type": "code",
      "source": [
        "#Arithmatic Operator\n",
        "print(5+6)\n",
        "\n",
        "print(5-6)\n",
        "\n",
        "print(5*6)\n",
        "\n",
        "print(5/2)\n",
        "\n",
        "print(5//2)   #inetger dividion\n",
        "\n",
        "print(5%2)\n",
        "\n",
        "print(5**3)  # power of"
      ],
      "metadata": {
        "colab": {
          "base_uri": "https://localhost:8080/"
        },
        "id": "EZLxXOPJvWCD",
        "outputId": "af575a95-dbef-4b23-f0cb-6885f25fd8d4"
      },
      "execution_count": 1,
      "outputs": [
        {
          "output_type": "stream",
          "name": "stdout",
          "text": [
            "11\n",
            "-1\n",
            "30\n",
            "2.5\n",
            "2\n",
            "1\n",
            "125\n"
          ]
        }
      ]
    },
    {
      "cell_type": "code",
      "source": [
        "#Relational Operator\n",
        "\n",
        "print(4>5)\n",
        "\n",
        "print(4<5)\n",
        "\n",
        "print(4>=4)\n",
        "\n",
        "print(4<=4)\n",
        "\n",
        "print(4==4)\n",
        "\n",
        "print(4!=4)\n",
        "\n",
        "\n",
        "\n"
      ],
      "metadata": {
        "colab": {
          "base_uri": "https://localhost:8080/"
        },
        "id": "GFnfhPk8vrTu",
        "outputId": "a65d8d5f-9d8e-4cc9-fb95-48eef42a4bfa"
      },
      "execution_count": 2,
      "outputs": [
        {
          "output_type": "stream",
          "name": "stdout",
          "text": [
            "False\n",
            "True\n",
            "True\n",
            "True\n",
            "True\n",
            "False\n"
          ]
        }
      ]
    },
    {
      "cell_type": "code",
      "source": [
        "#Logical Operator\n",
        "\n",
        "print(1 and 0)\n",
        "\n",
        "print(1 or 0)\n",
        "\n",
        "print(not 1)"
      ],
      "metadata": {
        "colab": {
          "base_uri": "https://localhost:8080/"
        },
        "id": "OiCRzN81v_Zc",
        "outputId": "85fb5bf3-35d0-45c9-b145-c38232558f8d"
      },
      "execution_count": 3,
      "outputs": [
        {
          "output_type": "stream",
          "name": "stdout",
          "text": [
            "0\n",
            "1\n",
            "False\n"
          ]
        }
      ]
    },
    {
      "cell_type": "code",
      "source": [
        "#Bitwise Operator\n",
        "#and\n",
        "print(2 & 3)\n",
        "#or\n",
        "print(2 | 3)\n",
        "#xor\n",
        "print(2 ^ 3)\n",
        "#mod\n",
        "print(~3)\n",
        "#shift left\n",
        "print(4 >> 2)\n",
        "#shift right\n",
        "print(5 << 2)\n"
      ],
      "metadata": {
        "colab": {
          "base_uri": "https://localhost:8080/"
        },
        "id": "_NIFmz7uwPC0",
        "outputId": "4e3ccb73-a6cf-4641-93a4-cea051a4f13d"
      },
      "execution_count": 5,
      "outputs": [
        {
          "output_type": "stream",
          "name": "stdout",
          "text": [
            "2\n",
            "3\n",
            "1\n",
            "-4\n",
            "1\n",
            "20\n"
          ]
        }
      ]
    },
    {
      "cell_type": "code",
      "source": [
        "#Assignment Operator\n",
        "#=\n",
        "a = 2\n",
        "print(a)\n",
        "#+=\n",
        "a += 3\n",
        "print(a)\n",
        "#-=\n",
        "a -= 3\n",
        "print(a)\n",
        "#*=\n",
        "a *= 3\n",
        "print(a)\n",
        "#/=\n",
        "a /= 3\n",
        "print(a)\n",
        "\n"
      ],
      "metadata": {
        "colab": {
          "base_uri": "https://localhost:8080/"
        },
        "id": "KkEimC1Tw7Ty",
        "outputId": "e042bcb4-47ea-47b9-af26-353437ed8820"
      },
      "execution_count": 6,
      "outputs": [
        {
          "output_type": "stream",
          "name": "stdout",
          "text": [
            "2\n",
            "5\n",
            "2\n",
            "6\n",
            "2.0\n"
          ]
        }
      ]
    },
    {
      "cell_type": "code",
      "source": [
        "#Membership Operator\n",
        "\n",
        "#in/not in\n",
        "\n",
        "print('D'in 'Delhi')\n",
        "\n",
        "print('D'not in 'Delhi')\n",
        "\n",
        "print(2 in [2,3,4,5,6])"
      ],
      "metadata": {
        "colab": {
          "base_uri": "https://localhost:8080/"
        },
        "id": "2UiAnQH1yJ4V",
        "outputId": "c6de62a3-b8c8-4dea-ad85-9aac0adbc79d"
      },
      "execution_count": 9,
      "outputs": [
        {
          "output_type": "stream",
          "name": "stdout",
          "text": [
            "True\n",
            "False\n",
            "True\n"
          ]
        }
      ]
    },
    {
      "cell_type": "code",
      "source": [
        "#pro - find the sum of 3 digit number entered by the user\n",
        "number = int(input(\"enter 3 digit number:\"))\n",
        "a = number%10\n",
        "number = number//10\n",
        "b = number%10\n",
        "number = number//10\n",
        "c = number%10\n",
        "number = number//10\n",
        "print(a+b+c)\n",
        "\n"
      ],
      "metadata": {
        "colab": {
          "base_uri": "https://localhost:8080/"
        },
        "id": "sKgU4NR8yXoQ",
        "outputId": "538f9300-47c2-4e61-ebf5-2737a8a5ad5d"
      },
      "execution_count": 10,
      "outputs": [
        {
          "output_type": "stream",
          "name": "stdout",
          "text": [
            "enter 3 digit number:345\n",
            "12\n"
          ]
        }
      ]
    },
    {
      "cell_type": "markdown",
      "source": [
        "#If-else in Python\n"
      ],
      "metadata": {
        "id": "7zV4hV0wz8oO"
      }
    },
    {
      "cell_type": "code",
      "source": [
        "#login program and identification\n",
        "email =input(\"enter the email:\")\n",
        "password = input(\"enter the password:\")\n",
        "\n",
        "if email== \"utkarsha.mande@gmail.com\" and password ==\"1234\":\n",
        "  print(\"welcome\")\n",
        "elif email== \"utkarsha.mande@gmail.com\" and password !=\"1234\":\n",
        "  print(\"incorrect password\")\n",
        "  password = input(\"enter the password again:\")\n",
        "  if password ==\"1234\":\n",
        "    print(\"finally correct\")\n",
        "  else:\n",
        "    print(\"still incorrect\")\n",
        "else:\n",
        "  print(\"not correct\")\n",
        "\n",
        "\n"
      ],
      "metadata": {
        "colab": {
          "base_uri": "https://localhost:8080/"
        },
        "id": "6oBNWSrMzpjt",
        "outputId": "da7096c3-4274-45cc-a6c3-2cefb9b99869"
      },
      "execution_count": 14,
      "outputs": [
        {
          "output_type": "stream",
          "name": "stdout",
          "text": [
            "enter the email:utkarsha.mande@gmail.com\n",
            "enter the password:123\n",
            "incorrect password\n",
            "enter the password again:1234\n",
            "finally correct\n"
          ]
        }
      ]
    },
    {
      "cell_type": "code",
      "source": [
        "#find the min of 3 given number\n",
        "a =int(input(\"enter the 1st number:\"))\n",
        "b= int(input(\"enter the 2nd number:\"))\n",
        "c= int(input(\"enter the 3rd number:\"))\n",
        "\n",
        "if a<b and a<c:\n",
        "  print(\"smallest number :\",a)\n",
        "\n",
        "elif  b<c:\n",
        "  print(\"smallest number:\",b)\n",
        "else:\n",
        "  print(\"smallest number:\",c)\n"
      ],
      "metadata": {
        "colab": {
          "base_uri": "https://localhost:8080/"
        },
        "id": "PTLjkHD55cto",
        "outputId": "14c566e4-9876-4968-b84e-b59b9ab2f805"
      },
      "execution_count": 15,
      "outputs": [
        {
          "output_type": "stream",
          "name": "stdout",
          "text": [
            "enter the 1st number:5\n",
            "enter the 2nd number:4\n",
            "enter the 3rd number:6\n",
            "smallest number: 4\n"
          ]
        }
      ]
    },
    {
      "cell_type": "code",
      "source": [
        "#menu driven calculator\n",
        "\n",
        "fnum =int(input(\"enter the 1st number:\"))\n",
        "snum = int(input(\"enter the 2nd number:\"))\n",
        "\n",
        "ope = input(\"enter the operator :\")\n",
        "\n",
        "if ope ==\"+\":\n",
        "  print(fnum+snum)\n",
        "elif ope ==\"-\":\n",
        "  print(fnum-snum)\n",
        "elif ope ==\"*\":\n",
        "  print(fnum*snum)\n",
        "elif ope ==\"/\":\n",
        "  print(fnum/snum)\n",
        "else:\n",
        "  print(fnum%snum)"
      ],
      "metadata": {
        "colab": {
          "base_uri": "https://localhost:8080/"
        },
        "id": "6p63Btiq65Ka",
        "outputId": "60efee9c-2559-47fb-b968-68ab42f59abc"
      },
      "execution_count": 17,
      "outputs": [
        {
          "output_type": "stream",
          "name": "stdout",
          "text": [
            "enter the 1st number:89\n",
            "enter the 2nd number:68\n",
            "enter the operator :+\n",
            "157\n"
          ]
        }
      ]
    },
    {
      "cell_type": "code",
      "source": [
        "menu = input (\"\"\"\n",
        "Hi how can i help you .\n",
        "1. enter 1 for pin change\n",
        "2.enter 2 for balance check\n",
        "3. enter 3 for withdrawl\n",
        "4. enter 4 for exit\n",
        "\"\"\")\n",
        "if menu ==\"1\":\n",
        "  print(\"pin change:\")\n",
        "elif menu ==\"2\":\n",
        "  print(\"Balance check\")\n",
        "elif menu ==\"3\":\n",
        "  print(\"withdrwal\")\n",
        "\n",
        "else:\n",
        "  print(\"exit\")"
      ],
      "metadata": {
        "colab": {
          "base_uri": "https://localhost:8080/"
        },
        "id": "G3VfxCOH75xU",
        "outputId": "9ee2d971-2ba6-4e22-d2f1-28582f47380e"
      },
      "execution_count": 18,
      "outputs": [
        {
          "output_type": "stream",
          "name": "stdout",
          "text": [
            "\n",
            "Hi how can i help you .\n",
            "1. enter 1 for pin change\n",
            "2.enter 2 for balance check\n",
            "3. enter 3 for withdrawl\n",
            "4. enter 4 for exit\n",
            "3\n",
            "withdrwal\n"
          ]
        }
      ]
    },
    {
      "cell_type": "markdown",
      "source": [
        "#Modules in Python\n",
        "\n",
        "\n",
        "*   math\n",
        "*   keyword\n",
        "*   constant\n",
        "*   random\n",
        "\n",
        "\n"
      ],
      "metadata": {
        "id": "Rp8nxxDJ86xQ"
      }
    },
    {
      "cell_type": "code",
      "source": [
        "#math\n",
        "import math\n",
        "math.sqrt(196)"
      ],
      "metadata": {
        "colab": {
          "base_uri": "https://localhost:8080/"
        },
        "id": "tXJWSaY48yfG",
        "outputId": "c1b86edb-5acc-47aa-cf6d-0e3c0e3991ef"
      },
      "execution_count": 20,
      "outputs": [
        {
          "output_type": "execute_result",
          "data": {
            "text/plain": [
              "14.0"
            ]
          },
          "metadata": {},
          "execution_count": 20
        }
      ]
    },
    {
      "cell_type": "code",
      "source": [
        "#keyword\n",
        "import keyword\n",
        "print(keyword.kwlist)"
      ],
      "metadata": {
        "colab": {
          "base_uri": "https://localhost:8080/"
        },
        "id": "I-6qn86E9RRS",
        "outputId": "792940af-58e6-4cb8-8742-c0a2d2c62b0e"
      },
      "execution_count": 21,
      "outputs": [
        {
          "output_type": "stream",
          "name": "stdout",
          "text": [
            "['False', 'None', 'True', 'and', 'as', 'assert', 'async', 'await', 'break', 'class', 'continue', 'def', 'del', 'elif', 'else', 'except', 'finally', 'for', 'from', 'global', 'if', 'import', 'in', 'is', 'lambda', 'nonlocal', 'not', 'or', 'pass', 'raise', 'return', 'try', 'while', 'with', 'yield']\n"
          ]
        }
      ]
    },
    {
      "cell_type": "code",
      "source": [
        "#random\n",
        "import random\n",
        "\n",
        "print(random.randint(1,100))"
      ],
      "metadata": {
        "colab": {
          "base_uri": "https://localhost:8080/"
        },
        "id": "b2NU2n179mRp",
        "outputId": "72541732-9755-43eb-a119-e995a6258b5f"
      },
      "execution_count": 22,
      "outputs": [
        {
          "output_type": "stream",
          "name": "stdout",
          "text": [
            "70\n"
          ]
        }
      ]
    },
    {
      "cell_type": "code",
      "source": [
        "#datetime\n",
        "import datetime\n",
        "print(datetime.datetime.now())"
      ],
      "metadata": {
        "colab": {
          "base_uri": "https://localhost:8080/"
        },
        "id": "ol3yq-589uQk",
        "outputId": "6b213dae-3520-4579-c26e-3fdc3663c497"
      },
      "execution_count": 23,
      "outputs": [
        {
          "output_type": "stream",
          "name": "stdout",
          "text": [
            "2025-05-17 06:39:00.485942\n"
          ]
        }
      ]
    },
    {
      "cell_type": "markdown",
      "source": [
        "#Loops in python\n",
        "\n",
        "\n",
        "*   Need for loops\n",
        "*   While loops\n",
        "*   For loops\n",
        "\n"
      ],
      "metadata": {
        "id": "NJSijI-O-deh"
      }
    },
    {
      "cell_type": "code",
      "source": [
        "#while loop\n",
        "#table of input number\n",
        "num = int(input(\"enter the number:\"))\n",
        "\n",
        "i=1\n",
        "while i<11:\n",
        "  print(num *i)\n",
        "  i+=1"
      ],
      "metadata": {
        "colab": {
          "base_uri": "https://localhost:8080/"
        },
        "id": "n9vBQl3C-Ozk",
        "outputId": "41dd51b1-bbd6-41da-8bfb-4d8adfde1fa6"
      },
      "execution_count": 27,
      "outputs": [
        {
          "output_type": "stream",
          "name": "stdout",
          "text": [
            "enter the number:2\n",
            "2\n",
            "4\n",
            "6\n",
            "8\n",
            "10\n",
            "12\n",
            "14\n",
            "16\n",
            "18\n",
            "20\n"
          ]
        }
      ]
    },
    {
      "cell_type": "code",
      "source": [
        "#while loop with else\n",
        "\n",
        "x=1\n",
        "\n",
        "while x<5:\n",
        "  print(x)\n",
        "  x+=1\n",
        "else:\n",
        "  print(\"limit crossed.\")"
      ],
      "metadata": {
        "colab": {
          "base_uri": "https://localhost:8080/"
        },
        "id": "bVTjKnplpkfQ",
        "outputId": "085d35bc-d05b-4219-8b9d-5cfeff8c5ff9"
      },
      "execution_count": 29,
      "outputs": [
        {
          "output_type": "stream",
          "name": "stdout",
          "text": [
            "1\n",
            "2\n",
            "3\n",
            "4\n",
            "limit crossed.\n"
          ]
        }
      ]
    },
    {
      "cell_type": "code",
      "source": [
        "# Guessing game\n",
        "#generate a random integer between 1 and 100\n",
        "\n",
        "import random\n",
        "jackpot = random.randint(1,100)\n",
        "\n",
        "guess=int(input(\"Guess any Number: \"))\n",
        "counter = 1\n",
        "while guess != jackpot:\n",
        "  if guess< jackpot:\n",
        "     print(\"Incorrect !, guess higher...\")\n",
        "  else:\n",
        "     print(\"Incorrect !, guess lower...\")\n",
        "\n",
        "  guess= int(input(\"guess again ...\"))\n",
        "  counter +=1\n",
        "else:\n",
        "  print(\"correct !, guess..\")\n",
        "  print(\"attempt\",counter)\n",
        "\n"
      ],
      "metadata": {
        "colab": {
          "base_uri": "https://localhost:8080/"
        },
        "id": "ohX6mf-uq8EW",
        "outputId": "1ff07eba-dd9b-41bf-ecdd-24b5b4950759"
      },
      "execution_count": 39,
      "outputs": [
        {
          "output_type": "stream",
          "name": "stdout",
          "text": [
            "Guess any Number: 50\n",
            "Incorrect !, guess higher...\n",
            "guess again ...70\n",
            "Incorrect !, guess higher...\n",
            "guess again ...80\n",
            "Incorrect !, guess higher...\n",
            "guess again ...90\n",
            "Incorrect !, guess lower...\n",
            "guess again ...85\n",
            "Incorrect !, guess lower...\n",
            "guess again ...81\n",
            "Incorrect !, guess higher...\n",
            "guess again ...84\n",
            "correct !, guess..\n",
            "attempt 7\n"
          ]
        }
      ]
    },
    {
      "cell_type": "code",
      "source": [
        "# for loop demo\n",
        "for i in range(1,11):\n",
        "  print(i)\n"
      ],
      "metadata": {
        "colab": {
          "base_uri": "https://localhost:8080/"
        },
        "id": "Cy84q-NHsEr7",
        "outputId": "7514d784-c64c-4546-86c3-83a9ec47550f"
      },
      "execution_count": 40,
      "outputs": [
        {
          "output_type": "stream",
          "name": "stdout",
          "text": [
            "1\n",
            "2\n",
            "3\n",
            "4\n",
            "5\n",
            "6\n",
            "7\n",
            "8\n",
            "9\n",
            "10\n"
          ]
        }
      ]
    },
    {
      "cell_type": "code",
      "source": [
        "\n",
        "for i in range(1,11):\n",
        "  print(i*2)"
      ],
      "metadata": {
        "colab": {
          "base_uri": "https://localhost:8080/"
        },
        "id": "QXdGySEfvRZg",
        "outputId": "379007c4-8678-4045-918b-c2662ee11ad8"
      },
      "execution_count": 43,
      "outputs": [
        {
          "output_type": "stream",
          "name": "stdout",
          "text": [
            "2\n",
            "4\n",
            "6\n",
            "8\n",
            "10\n",
            "12\n",
            "14\n",
            "16\n",
            "18\n",
            "20\n"
          ]
        }
      ]
    },
    {
      "cell_type": "code",
      "source": [
        "for i in range(10,0,-1):\n",
        "  print(i)"
      ],
      "metadata": {
        "colab": {
          "base_uri": "https://localhost:8080/"
        },
        "id": "msznxKDWve6y",
        "outputId": "93ad317f-0590-495e-8121-2459d89cb432"
      },
      "execution_count": 44,
      "outputs": [
        {
          "output_type": "stream",
          "name": "stdout",
          "text": [
            "10\n",
            "9\n",
            "8\n",
            "7\n",
            "6\n",
            "5\n",
            "4\n",
            "3\n",
            "2\n",
            "1\n"
          ]
        }
      ]
    },
    {
      "cell_type": "code",
      "source": [
        "for e in 'delhi':\n",
        "  print(e)\n"
      ],
      "metadata": {
        "colab": {
          "base_uri": "https://localhost:8080/"
        },
        "id": "gbPPPR0FvxPG",
        "outputId": "936ae861-a325-444e-a4de-b84b1a2516f0"
      },
      "execution_count": 47,
      "outputs": [
        {
          "output_type": "stream",
          "name": "stdout",
          "text": [
            "d\n",
            "e\n",
            "l\n",
            "h\n",
            "i\n"
          ]
        }
      ]
    },
    {
      "cell_type": "code",
      "source": [
        "#the current population of a town is 10000. The population of the town is increasing\n",
        "#at the rate of 10% per year . You have to write a program to find out the\n",
        "#population at the end of each of the last 10 years.\n",
        "\n",
        "curr_pop =10000\n",
        "for i in range(10,0,-1):\n",
        "  print(i,curr_pop)\n",
        "  curr_pop = curr_pop - 0.1*curr_pop\n"
      ],
      "metadata": {
        "colab": {
          "base_uri": "https://localhost:8080/"
        },
        "id": "kwPDml-Gv7EQ",
        "outputId": "49166c02-3908-4465-fb3e-831127cdeb88"
      },
      "execution_count": 49,
      "outputs": [
        {
          "output_type": "stream",
          "name": "stdout",
          "text": [
            "10 10000\n",
            "9 9000.0\n",
            "8 8100.0\n",
            "7 7290.0\n",
            "6 6561.0\n",
            "5 5904.9\n",
            "4 5314.41\n",
            "3 4782.969\n",
            "2 4304.6721\n",
            "1 3874.20489\n"
          ]
        }
      ]
    },
    {
      "cell_type": "markdown",
      "source": [
        "#Task 2\n"
      ],
      "metadata": {
        "id": "dnaU-MRRzJ_2"
      }
    },
    {
      "cell_type": "code",
      "source": [
        "# Problem 1: Write a program that will give you in hand monthly salary\n",
        "#after deduction on CTC - HRA(10%), DA(5%), PF(3%) and taxes deduction\n",
        "#as below:\n",
        "# Salary(Lakhs) : Tax(%)\n",
        "\n",
        "# Below 5 : 0%\n",
        "# 5-10 : 10%\n",
        "# 10-20 : 20%\n",
        "# aboove 20 : 30%\n",
        "\n",
        "ctc = float(input(\"enter your ctc in lakhs per year:\"))\n",
        "\n",
        "#conv to rs\n",
        "annual =ctc * 100000\n",
        "\n",
        "hra = 0.10*annual\n",
        "da = 0.05*annual\n",
        "pf = 0.03*annual\n",
        "\n",
        "if ctc< 5:\n",
        "  tax= 0\n",
        "elif ctc<10:\n",
        "  tax=0.10*annual\n",
        "elif ctc<20:\n",
        "  tax=0.20*annual\n",
        "else:\n",
        "  tax=0.30*annual\n",
        "\n",
        "total_deduction = hra + da + pf + tax\n",
        "\n",
        "in_hand_annual = annual - total_deduction\n",
        "in_hand_monthly = in_hand_annual/12\n",
        "\n",
        "print(\"In hand monthly salary is:\",in_hand_monthly)\n",
        "\n"
      ],
      "metadata": {
        "colab": {
          "base_uri": "https://localhost:8080/"
        },
        "id": "ON9gCp6gx2gg",
        "outputId": "5d4e2dfd-9e47-4ba8-f902-72c9dd3314ec"
      },
      "execution_count": 50,
      "outputs": [
        {
          "output_type": "stream",
          "name": "stdout",
          "text": [
            "enter your ctc in lakhs per year:10\n",
            "In hand monthly salary is: 51666.666666666664\n"
          ]
        }
      ]
    },
    {
      "cell_type": "code",
      "source": [
        "#Problem 2: Write a program that take a user input of three angles and\n",
        "#will find out whether it can form a triangle or not.\n",
        "\n",
        "a=int(input(\"enter the 1st angle:\"))\n",
        "b=int(input(\"enter the 2nd angle:\"))\n",
        "c=int(input(\"enter the 3rd angle:\"))\n",
        "\n",
        "if a>0 and b>0 and c>0 and a+b+c == 180:\n",
        "  print(\"it can form triangle\")\n",
        "else:\n",
        "  print(\"it can not form triangle\")\n",
        "\n",
        "\n",
        "\n",
        "\n",
        "\n",
        "\n"
      ],
      "metadata": {
        "colab": {
          "base_uri": "https://localhost:8080/"
        },
        "id": "XHV7nxDo1ASR",
        "outputId": "23f9f861-fc43-4100-a831-7dcd04907acd"
      },
      "execution_count": 52,
      "outputs": [
        {
          "output_type": "stream",
          "name": "stdout",
          "text": [
            "enter the 1st angle:30\n",
            "enter the 2nd angle:60\n",
            "enter the 3rd angle:90\n",
            "it can form triangle\n"
          ]
        }
      ]
    },
    {
      "cell_type": "code",
      "source": [
        "#Problem 3: Write a program that will take user input of cost price\n",
        "#and selling price and determines whether its a loss or a profit.\n",
        "\n",
        "cost_price = int(input(\"enter the cost price:\"))\n",
        "selling_price =int(input(\"enter the selling price:\"))\n",
        "\n",
        "if selling_price >cost_price:\n",
        "  profit = selling_price - cost_price\n",
        "  print(\"profit of Rs.\",profit)\n",
        "else:\n",
        "  loss =cost_price - selling_price\n",
        "  print(\"loss of Rs.\",loss)\n",
        "\n",
        "\n",
        "\n"
      ],
      "metadata": {
        "colab": {
          "base_uri": "https://localhost:8080/"
        },
        "id": "UeCSniqr1mxz",
        "outputId": "26d01f15-145e-491a-8d2b-3e60b282a5b7"
      },
      "execution_count": 56,
      "outputs": [
        {
          "output_type": "stream",
          "name": "stdout",
          "text": [
            "enter the cost price:600\n",
            "enter the selling price:400\n",
            "loss of Rs. 200\n"
          ]
        }
      ]
    },
    {
      "cell_type": "code",
      "source": [
        "#   Problem 4: Write a menu-driven program -\n",
        "# cm to ft\n",
        "# km to miles\n",
        "# USD to INR\n",
        "# exit\n",
        "\n",
        "menu = input(\"\"\"enter any one number from list:\n",
        "hii how can i help\n",
        "1. enter 1 to cm to ft\n",
        "2. enter 2 to km to miles\n",
        "3. enter 3 to USD to INR\n",
        "4. enter 4 to exit\n",
        "\"\"\")\n",
        "\n",
        "if menu == \"1\":\n",
        "    cm = float(input(\"Enter value in centimeters: \"))\n",
        "    ft = cm / 30.48\n",
        "    print(\"Value in feet:\", ft)\n",
        "\n",
        "elif menu == \"2\":\n",
        "    km = float(input(\"Enter value in kilometers: \"))\n",
        "    miles = km * 0.621371\n",
        "    print(\"Value in miles:\", miles)\n",
        "\n",
        "elif menu == \"3\":\n",
        "    usd = float(input(\"Enter amount in USD: \"))\n",
        "    inr = usd * 83.20   # You can update the rate as needed\n",
        "    print(\"Value in INR: Rs\", inr)\n",
        "\n",
        "elif menu == \"4\":\n",
        "    print(\"Exiting program. Thank you!\")\n",
        "\n",
        "else:\n",
        "    print(\"Invalid input. Please choose 1 to 4.\")\n"
      ],
      "metadata": {
        "colab": {
          "base_uri": "https://localhost:8080/"
        },
        "id": "Thyq6r962oiO",
        "outputId": "df9d2eb2-3200-4907-9c52-b2d48df7e2a8"
      },
      "execution_count": 62,
      "outputs": [
        {
          "output_type": "stream",
          "name": "stdout",
          "text": [
            "enter any one number from list:\n",
            "hii how can i help \n",
            "1. enter 1 to cm to ft\n",
            "2. enter 2 to km to miles\n",
            "3. enter 3 to USD to INR\n",
            "4. enter 4 to exit\n",
            "3\n",
            "Enter amount in USD: 7888\n",
            "Value in INR: Rs 656281.6\n"
          ]
        }
      ]
    },
    {
      "cell_type": "code",
      "source": [
        "#Problem 5 -  Display Fibonacci series up to 10 terms.\n",
        "num = int(input(\"enter the number: \"))\n",
        "\n",
        "a=0\n",
        "b=1\n",
        "\n",
        "print(\"Fibonacci series:\")\n",
        "\n",
        "for i in range(num):\n",
        "  print(a, end =\" \")\n",
        "  c=a+b\n",
        "  a=b\n",
        "  b=c\n"
      ],
      "metadata": {
        "colab": {
          "base_uri": "https://localhost:8080/"
        },
        "id": "yAdf3iFP4VHO",
        "outputId": "733ae2c6-6b70-4fb6-e7e1-7937af0c1b5b"
      },
      "execution_count": 65,
      "outputs": [
        {
          "output_type": "stream",
          "name": "stdout",
          "text": [
            "enter the number: 10\n",
            "Fibonacci series:\n",
            "0 1 1 2 3 5 8 13 21 34 "
          ]
        }
      ]
    },
    {
      "cell_type": "code",
      "source": [
        "#Problem 6 - Find the factorial of a given number.\n",
        "num =int(input(\"enter the number:\"))\n",
        "\n",
        "fact =1\n",
        "\n",
        "for i in range (1,num+1):\n",
        "  fact = fact*i\n",
        "\n",
        "print(\"Factorial of \",num, \"is\", fact)"
      ],
      "metadata": {
        "colab": {
          "base_uri": "https://localhost:8080/"
        },
        "id": "lWr4Auwl6OXG",
        "outputId": "9bd2d1cf-7bf1-4d81-dccd-789099496fb9"
      },
      "execution_count": 67,
      "outputs": [
        {
          "output_type": "stream",
          "name": "stdout",
          "text": [
            "enter the number:5\n",
            "Factorial of  5 is 120\n"
          ]
        }
      ]
    },
    {
      "cell_type": "code",
      "source": [
        "#Problem 7 - Reverse a given integer number.\n",
        "num=int(input(\"enter any number: \"))\n",
        "\n",
        "reversed_num = int(str(num)[::-1])\n",
        "print(\"Reversed Num\",reversed_num)"
      ],
      "metadata": {
        "colab": {
          "base_uri": "https://localhost:8080/"
        },
        "id": "rBFdUG__66mm",
        "outputId": "c4464673-4580-4542-f108-3328c83fcd78"
      },
      "execution_count": 69,
      "outputs": [
        {
          "output_type": "stream",
          "name": "stdout",
          "text": [
            "enter any number: 453\n",
            "Reversed Num 354\n"
          ]
        }
      ]
    },
    {
      "cell_type": "code",
      "source": [
        "# # Problem 8: Take a user input as integer N. Find out the sum from 1 to N.\n",
        "# If any number if divisible by 5, then skip that number. And if the\n",
        "# sum is greater than 300, don't need to calculate the sum further more.\n",
        "#  Print the final result. And don't use for loop to solve this problem.\n",
        "\n",
        "\n",
        "N = int(input(\"Enter an integer N: \"))\n",
        "total_sum = 0\n",
        "i = 1\n",
        "\n",
        "while i <= N:\n",
        "    if i % 5 != 0:\n",
        "        total_sum += i\n",
        "        if total_sum > 300:\n",
        "            break\n",
        "    i += 1\n",
        "\n",
        "print(\"Final sum:\", total_sum)\n",
        "\n",
        "\n",
        "\n",
        "\n"
      ],
      "metadata": {
        "colab": {
          "base_uri": "https://localhost:8080/"
        },
        "id": "HtsQOycC7Vdl",
        "outputId": "7a4c7476-2624-47b9-9e7a-c04d186aa035"
      },
      "execution_count": 70,
      "outputs": [
        {
          "output_type": "stream",
          "name": "stdout",
          "text": [
            "Enter an integer N: 400\n",
            "Final sum: 303\n"
          ]
        }
      ]
    },
    {
      "cell_type": "code",
      "source": [
        "# Problem 9: Write a program which will find all such numbers which are\n",
        "# divisible by 7 but are not a multiple of 5, between 2000 and 3200 (both\n",
        "# included). The numbers obtained should be printed in a comma-separated\n",
        "# sequence on a single line.\n",
        "\n",
        "result=[]\n",
        "\n",
        "for num in range(2000, 3201):\n",
        "  if num % 7==0 and num% 5!=0:\n",
        "    result.append(str(num))\n",
        "\n",
        "# print((result),sep=\",\")\n",
        "print(\", \".join(result))\n"
      ],
      "metadata": {
        "colab": {
          "base_uri": "https://localhost:8080/"
        },
        "id": "NszlNQT98bdy",
        "outputId": "6e978b76-ae68-40ae-efc1-f5f95d989420"
      },
      "execution_count": 74,
      "outputs": [
        {
          "output_type": "stream",
          "name": "stdout",
          "text": [
            "2002, 2009, 2016, 2023, 2037, 2044, 2051, 2058, 2072, 2079, 2086, 2093, 2107, 2114, 2121, 2128, 2142, 2149, 2156, 2163, 2177, 2184, 2191, 2198, 2212, 2219, 2226, 2233, 2247, 2254, 2261, 2268, 2282, 2289, 2296, 2303, 2317, 2324, 2331, 2338, 2352, 2359, 2366, 2373, 2387, 2394, 2401, 2408, 2422, 2429, 2436, 2443, 2457, 2464, 2471, 2478, 2492, 2499, 2506, 2513, 2527, 2534, 2541, 2548, 2562, 2569, 2576, 2583, 2597, 2604, 2611, 2618, 2632, 2639, 2646, 2653, 2667, 2674, 2681, 2688, 2702, 2709, 2716, 2723, 2737, 2744, 2751, 2758, 2772, 2779, 2786, 2793, 2807, 2814, 2821, 2828, 2842, 2849, 2856, 2863, 2877, 2884, 2891, 2898, 2912, 2919, 2926, 2933, 2947, 2954, 2961, 2968, 2982, 2989, 2996, 3003, 3017, 3024, 3031, 3038, 3052, 3059, 3066, 3073, 3087, 3094, 3101, 3108, 3122, 3129, 3136, 3143, 3157, 3164, 3171, 3178, 3192, 3199\n"
          ]
        }
      ]
    },
    {
      "cell_type": "code",
      "source": [
        "# Problem 10: Write a program, which will find all such numbers between\n",
        "#  1000 and 3000 (both included) such that each digit of the number is an\n",
        "# even number. The numbers obtained should be printed in a space-\n",
        "#  sequence on a single line.\n",
        "\n",
        "result =[]\n",
        "\n",
        "for i in range(1000, 3001):\n",
        "  s = str(i)\n",
        "    # Check if all digits are even\n",
        "  if all(int(digit) % 2 == 0 for digit in s):\n",
        "        result.append(str(i))\n",
        "\n",
        "# print(\"even number:\",result)\n",
        "\n",
        "print(\" | \".join(result))"
      ],
      "metadata": {
        "colab": {
          "base_uri": "https://localhost:8080/"
        },
        "id": "6MYGE53R9gbJ",
        "outputId": "9559411d-dfe2-4b22-a0be-b4eda33b73af"
      },
      "execution_count": 78,
      "outputs": [
        {
          "output_type": "stream",
          "name": "stdout",
          "text": [
            "2000 | 2002 | 2004 | 2006 | 2008 | 2020 | 2022 | 2024 | 2026 | 2028 | 2040 | 2042 | 2044 | 2046 | 2048 | 2060 | 2062 | 2064 | 2066 | 2068 | 2080 | 2082 | 2084 | 2086 | 2088 | 2200 | 2202 | 2204 | 2206 | 2208 | 2220 | 2222 | 2224 | 2226 | 2228 | 2240 | 2242 | 2244 | 2246 | 2248 | 2260 | 2262 | 2264 | 2266 | 2268 | 2280 | 2282 | 2284 | 2286 | 2288 | 2400 | 2402 | 2404 | 2406 | 2408 | 2420 | 2422 | 2424 | 2426 | 2428 | 2440 | 2442 | 2444 | 2446 | 2448 | 2460 | 2462 | 2464 | 2466 | 2468 | 2480 | 2482 | 2484 | 2486 | 2488 | 2600 | 2602 | 2604 | 2606 | 2608 | 2620 | 2622 | 2624 | 2626 | 2628 | 2640 | 2642 | 2644 | 2646 | 2648 | 2660 | 2662 | 2664 | 2666 | 2668 | 2680 | 2682 | 2684 | 2686 | 2688 | 2800 | 2802 | 2804 | 2806 | 2808 | 2820 | 2822 | 2824 | 2826 | 2828 | 2840 | 2842 | 2844 | 2846 | 2848 | 2860 | 2862 | 2864 | 2866 | 2868 | 2880 | 2882 | 2884 | 2886 | 2888\n"
          ]
        }
      ]
    },
    {
      "cell_type": "code",
      "source": [
        "x, y = 0, 0\n",
        "\n",
        "while True:\n",
        "    command = input(\"Enter command (or press Enter to stop): \")\n",
        "    if command == \"\":\n",
        "        break\n",
        "\n",
        "    parts = command.split()\n",
        "    if len(parts) != 2:\n",
        "        print(\"Invalid input format! Please enter direction and steps separated by space.\")\n",
        "        continue\n",
        "\n",
        "    direction, steps = parts\n",
        "    if not steps.isdigit():\n",
        "        print(\"Steps should be a number!\")\n",
        "        continue\n",
        "\n",
        "    steps = int(steps)\n",
        "\n",
        "    if direction.upper() == \"UP\":\n",
        "        y += steps\n",
        "    elif direction.upper() == \"DOWN\":\n",
        "        y -= steps\n",
        "    elif direction.upper() == \"LEFT\":\n",
        "        x -= steps\n",
        "    elif direction.upper() == \"RIGHT\":\n",
        "        x += steps\n",
        "    else:\n",
        "        print(\"Invalid direction\")\n",
        "\n",
        "print(\"Final position:\", (x, y))\n"
      ],
      "metadata": {
        "colab": {
          "base_uri": "https://localhost:8080/"
        },
        "id": "KP23l5x2-brN",
        "outputId": "370c267d-8592-45f3-a032-e861a57b14e0"
      },
      "execution_count": 81,
      "outputs": [
        {
          "output_type": "stream",
          "name": "stdout",
          "text": [
            "Enter command (or press Enter to stop): UP 2\n",
            "Enter command (or press Enter to stop): DOWN 3\n",
            "Enter command (or press Enter to stop): LEFT 3\n",
            "Enter command (or press Enter to stop): RIGHT 4\n",
            "Enter command (or press Enter to stop): \n",
            "Final position: (1, -1)\n"
          ]
        }
      ]
    },
    {
      "cell_type": "code",
      "source": [
        "# Problem 12:Write a program to print\n",
        "# whether a given number is a prime number or not\n",
        "\n",
        "num = int(input(\"Enter a number: \"))\n",
        "\n",
        "if num <= 1:\n",
        "    print(num, \"is not a prime number\")\n",
        "else:\n",
        "    is_prime = True\n",
        "    for i in range(2, int(num ** 0.5) + 1):\n",
        "        if num % i == 0:\n",
        "            is_prime = False\n",
        "            break\n",
        "\n",
        "    if is_prime:\n",
        "        print(num, \"is a prime number\")\n",
        "    else:\n",
        "        print(num, \"is not a prime number\")\n",
        "\n"
      ],
      "metadata": {
        "colab": {
          "base_uri": "https://localhost:8080/"
        },
        "id": "LJdPDGcd_pP7",
        "outputId": "9caefde1-cf32-4251-f0f4-d48b28bfe886"
      },
      "execution_count": 82,
      "outputs": [
        {
          "output_type": "stream",
          "name": "stdout",
          "text": [
            "Enter a number: 89\n",
            "89 is a prime number\n"
          ]
        }
      ]
    },
    {
      "cell_type": "code",
      "source": [
        "#Problem 13:Print all the Armstrong numbers in a given range.\n",
        "\n",
        "start = int(input(\"enter the starting number :\"))\n",
        "end = int(input(\"enter the ending number :\"))\n",
        "\n",
        "print(\"Armstrong numbers between\", start, \"and\", end, \"are:\")\n",
        "\n",
        "for num in range (start, end+1):\n",
        "  order = len(str(num))\n",
        "  sum_of_powers = 0\n",
        "  temp = num\n",
        "\n",
        "  while temp>0:\n",
        "    digit = temp %10\n",
        "    sum_of_powers += digit ** order\n",
        "    temp = temp //10\n",
        "\n",
        "  if sum_of_powers == num:\n",
        "    print(num , end =\" \")"
      ],
      "metadata": {
        "colab": {
          "base_uri": "https://localhost:8080/"
        },
        "id": "CW9vEZhxBIUT",
        "outputId": "4836e937-ea55-4147-f0de-f4a9ec811d51"
      },
      "execution_count": 83,
      "outputs": [
        {
          "output_type": "stream",
          "name": "stdout",
          "text": [
            "enter the starting number :1000\n",
            "enter the ending number :3000\n",
            "Armstrong numbers between 1000 and 3000 are:\n",
            "1634 "
          ]
        }
      ]
    },
    {
      "cell_type": "code",
      "source": [
        "#Problem 14:Calculate the angle between the hour hand and minute hand.\n",
        "\n",
        "\n",
        "hour = int(input(\"Enter hour (1-12): \"))\n",
        "minute = int(input(\"Enter minute (0-59): \"))\n",
        "\n",
        "# Calculate the angle\n",
        "angle = abs((30 * hour) - (11 / 2) * minute)\n",
        "\n",
        "# Return the smaller angle\n",
        "if angle > 180:\n",
        "    angle = 360 - angle\n",
        "\n",
        "print(f\"The angle between hour and minute hands is {angle} degrees.\")\n"
      ],
      "metadata": {
        "colab": {
          "base_uri": "https://localhost:8080/"
        },
        "id": "YwNSAtD0CHuA",
        "outputId": "5c15d0c0-be26-44ef-a76c-95c06e1fe3ba"
      },
      "execution_count": 84,
      "outputs": [
        {
          "output_type": "stream",
          "name": "stdout",
          "text": [
            "Enter hour (1-12): 5\n",
            "Enter minute (0-59): 45\n",
            "The angle between hour and minute hands is 97.5 degrees.\n"
          ]
        }
      ]
    },
    {
      "cell_type": "code",
      "source": [
        "# Problem 15:Given two rectangles, find if the given two rectangles\n",
        "# overlap or not. A rectangle is denoted by providing the x and y\n",
        "#  coordinates of two points: the left top corner and the right\n",
        "#   bottom corner of the rectangle. Two rectangles sharing a side are\n",
        "#   considered overlapping. (L1 and R1 are the extreme points of the first\n",
        "# rectangle and L2 and R2 are the extreme points of the second rectangle).\n",
        "\n",
        "\n",
        "def is_overlapping(L1, R1, L2, R2):\n",
        "    # If one rectangle is to the left of the other\n",
        "    if R1[0] < L2[0] or R2[0] < L1[0]:\n",
        "        return False\n",
        "\n",
        "    # If one rectangle is above the other\n",
        "    if R1[1] > L2[1] or R2[1] > L1[1]:\n",
        "        return False\n",
        "\n",
        "    return True\n",
        "\n",
        "L1 = (0, 10)  # top-left of rect1\n",
        "R1 = (10, 0)  # bottom-right of rect1\n",
        "\n",
        "L2 = (5, 5)   # top-left of rect2\n",
        "R2 = (15, 0)  # bottom-right of rect2\n",
        "\n",
        "if is_overlapping(L1, R1, L2, R2):\n",
        "    print(\"Rectangles overlap.\")\n",
        "else:\n",
        "    print(\"Rectangles do not overlap.\")\n",
        "\n"
      ],
      "metadata": {
        "colab": {
          "base_uri": "https://localhost:8080/"
        },
        "id": "UeR2y2k5CYph",
        "outputId": "09f1fd45-19c2-4835-e8c2-98194d683a6e"
      },
      "execution_count": 85,
      "outputs": [
        {
          "output_type": "stream",
          "name": "stdout",
          "text": [
            "Rectangles overlap.\n"
          ]
        }
      ]
    },
    {
      "cell_type": "code",
      "source": [],
      "metadata": {
        "id": "tseUYpOZC09I"
      },
      "execution_count": null,
      "outputs": []
    }
  ]
}